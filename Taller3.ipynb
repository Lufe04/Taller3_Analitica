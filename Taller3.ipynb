{
 "cells": [
  {
   "cell_type": "markdown",
   "metadata": {},
   "source": [
    "# Taller sobre LDA y kNN\n",
    "\n",
    "## Introducción\n",
    "En este taller, exploraremos dos de los algoritmos más utilizados en Machine Learning: K-Nearest Neighbors (KNN) y K-Means. Estos métodos, aunque diferentes en su propósito, comparten el uso de métricas de distancia para clasificar o agrupar datos.\n",
    "\n",
    "KNN (K-Nearest Neighbors) es un algoritmo de clasificación basado en la similitud entre los datos. Su desempeño depende del número de vecinos (k) y del tipo de distancia utilizada.\n",
    "K-Means es un algoritmo de agrupamiento no supervisado que busca particionar un conjunto de datos en k grupos, minimizando la variación dentro de cada grupo.\n",
    "\n"
   ]
  },
  {
   "cell_type": "code",
   "execution_count": 4,
   "metadata": {},
   "outputs": [
    {
     "name": "stdout",
     "output_type": "stream",
     "text": [
      "   sepal_length  sepal_width  petal_length  petal_width      species\n",
      "0           5.1          3.5           1.4          0.2  Iris-setosa\n",
      "1           4.9          3.0           1.4          0.2  Iris-setosa\n",
      "2           4.7          3.2           1.3          0.2  Iris-setosa\n",
      "3           4.6          3.1           1.5          0.2  Iris-setosa\n",
      "4           5.0          3.6           1.4          0.2  Iris-setosa\n"
     ]
    }
   ],
   "source": [
    "import pandas as pd\n",
    "import numpy as np\n",
    "import matplotlib.pyplot as plt\n",
    "from sklearn.model_selection import train_test_split\n",
    "from sklearn.preprocessing import StandardScaler\n",
    "from sklearn.neighbors import KNeighborsClassifier\n",
    "from sklearn.metrics import confusion_matrix, classification_report, ConfusionMatrixDisplay\n",
    "\n",
    "# Definir nombres de las columnas\n",
    "columnas = [\"sepal_length\", \"sepal_width\", \"petal_length\", \"petal_width\", \"species\"]\n",
    "\n",
    "# Cargar el dataset\n",
    "df = pd.read_csv(\"iris.data\", names=columnas)\n",
    "\n",
    "# Mostrar las primeras filas\n",
    "print(df.head())\n"
   ]
  },
  {
   "cell_type": "code",
   "execution_count": 5,
   "metadata": {},
   "outputs": [
    {
     "name": "stdout",
     "output_type": "stream",
     "text": [
      "Tamaño de entrenamiento: 105 muestras\n",
      "Tamaño de prueba: 45 muestras\n"
     ]
    }
   ],
   "source": [
    "\n",
    "\n",
    "# Cargar el dataset\n",
    "columnas = [\"sepal_length\", \"sepal_width\", \"petal_length\", \"petal_width\", \"species\"]\n",
    "df = pd.read_csv(\"iris.data\", names=columnas)\n",
    "\n",
    "# Convertir la columna de clases a valores numéricos\n",
    "df[\"species\"] = df[\"species\"].astype(\"category\").cat.codes  \n",
    "\n",
    "# Separar características (X) y etiquetas (y)\n",
    "X = df.iloc[:, :-1]  # Todas las columnas excepto la última\n",
    "y = df.iloc[:, -1]   # La última columna (clase de la flor)\n",
    "\n",
    "# Dividir los datos en entrenamiento (60%) y prueba (30%)\n",
    "X_train, X_test, y_train, y_test = train_test_split(X, y, test_size=0.30, random_state=42)\n",
    "\n",
    "# Mostrar tamaños de los conjuntos\n",
    "print(f\"Tamaño de entrenamiento: {X_train.shape[0]} muestras\")\n",
    "print(f\"Tamaño de prueba: {X_test.shape[0]} muestras\")\n"
   ]
  },
  {
   "cell_type": "code",
   "execution_count": 6,
   "metadata": {},
   "outputs": [
    {
     "data": {
      "image/png": "[encoded data removed]",
      "text/plain": [
       "<Figure size 640x480 with 2 Axes>"
      ]
     },
     "metadata": {},
     "output_type": "display_data"
    },
    {
     "name": "stdout",
     "output_type": "stream",
     "text": [
      "Reporte de Clasificación:\n",
      "               precision    recall  f1-score   support\n",
      "\n",
      "           0       1.00      1.00      1.00        19\n",
      "           1       1.00      1.00      1.00        13\n",
      "           2       1.00      1.00      1.00        13\n",
      "\n",
      "    accuracy                           1.00        45\n",
      "   macro avg       1.00      1.00      1.00        45\n",
      "weighted avg       1.00      1.00      1.00        45\n",
      "\n"
     ]
    }
   ],
   "source": [
    "# Convertir la columna de clases a valores numéricos\n",
    "df[\"species\"] = df[\"species\"].astype(\"category\").cat.codes  \n",
    "\n",
    "# Separar características (X) y etiquetas (y)\n",
    "X = df.iloc[:, :-1]\n",
    "y = df.iloc[:, -1]\n",
    "\n",
    "# Dividir los datos en entrenamiento (60%) y prueba (30%)\n",
    "X_train, X_test, y_train, y_test = train_test_split(X, y, test_size=0.30, random_state=42)\n",
    "\n",
    "# Normalizar los datos (KNN es sensible a escalas)\n",
    "scaler = StandardScaler()\n",
    "X_train = scaler.fit_transform(X_train)\n",
    "X_test = scaler.transform(X_test)\n",
    "\n",
    "# Entrenar el modelo KNN con k=5\n",
    "knn = KNeighborsClassifier(n_neighbors=5)\n",
    "knn.fit(X_train, y_train)\n",
    "\n",
    "# Hacer predicciones\n",
    "y_pred = knn.predict(X_test)\n",
    "\n",
    "# Evaluar con matriz de confusión\n",
    "cm = confusion_matrix(y_test, y_pred)\n",
    "disp = ConfusionMatrixDisplay(confusion_matrix=cm)\n",
    "disp.plot(cmap=plt.cm.Blues)\n",
    "plt.title(\"Matriz de Confusión para KNN\")\n",
    "plt.show()\n",
    "\n",
    "# Reporte de clasificación\n",
    "print(\"Reporte de Clasificación:\\n\", classification_report(y_test, y_pred))"
   ]
  },
  {
   "cell_type": "markdown",
   "metadata": {},
   "source": [
    "# Análisis del Desempeño del Modelo KNN\n",
    "\n",
    "Los resultados obtenidos en el reporte de clasificación indican que el modelo KNN ha alcanzado una precisión perfecta en la clasificación del dataset Iris. A continuación, se analiza cada métrica y su significado:\n",
    "\n",
    "## 1. Precisión, Recall y F1-score  \n",
    "\n",
    "| Clase        | Precisión | Recall | F1-score | Soporte |\n",
    "|-------------|-----------|--------|----------|---------|\n",
    "| 0 (Setosa)  | 1.00      | 1.00   | 1.00     | 19      |\n",
    "| 1 (Versicolor) | 1.00   | 1.00   | 1.00     | 13      |\n",
    "| 2 (Virginica) | 1.00   | 1.00   | 1.00     | 13      |\n",
    "\n",
    "- **Precisión:** Indica cuántas de las predicciones de cada clase fueron correctas. En este caso, todas las predicciones fueron correctas (100%).  \n",
    "- **Recall:** Mide cuántos de los ejemplos reales de cada clase fueron correctamente identificados. Como el recall es 1.00 para todas las clases, significa que ningún ejemplo fue mal clasificado.  \n",
    "- **F1-score:** Es la media armónica entre precisión y recall. Como ambos valores son perfectos, el F1-score también es 1.00.  \n",
    "\n",
    "## 2. Exactitud (Accuracy)  \n",
    "\n",
    "La exactitud del modelo es **100%**, lo que significa que todas las muestras de prueba se clasificaron correctamente.  \n",
    "\n",
    "## 3. Análisis del resultado  \n",
    "\n",
    "Un desempeño del 100% en todas las métricas sugiere que el modelo está **sobreajustado** a los datos. Esto puede deberse a:  \n",
    "\n",
    "- El dataset Iris es relativamente simple y sus clases están bien separadas en el espacio de características.  \n",
    "- El número de vecinos (\\( k = 5 \\)) puede ser adecuado, ya que en este caso los datos están bien distribuidos.  \n",
    "- No hay ruido en los datos, lo que facilita la clasificación.  \n",
    "- El conjunto de prueba (30%) aún mantiene la misma distribución de clases, lo que facilita que el modelo generalice sin errores.  \n",
    "\n",
    "## 4. Posibles mejoras o pruebas adicionales  \n",
    "\n",
    "Aunque estos resultados son excelentes, en problemas del mundo real se pueden considerar algunas pruebas adicionales para evaluar la estabilidad del modelo:  \n",
    "\n",
    "- **Cambiar \\( k \\) y evaluar el impacto:** Se puede probar con valores menores o mayores de \\( k \\) para ver si los resultados cambian.  \n",
    "- **Probar con otro dataset más complejo:** Iris es un dataset \"limpio\", pero en datos más ruidosos o con clases menos separables, KNN puede no ser perfecto.  \n",
    "- **Evaluar con validación cruzada:** En lugar de una única partición 60-30, se puede usar `cross_val_score` para obtener un mejor análisis de la estabilidad del modelo.  \n"
   ]
  }
 ],
 "metadata": {
  "kernelspec": {
   "display_name": "analitica",
   "language": "python",
   "name": "python3"
  },
  "language_info": {
   "codemirror_mode": {
    "name": "ipython",
    "version": 3
   },
   "file_extension": ".py",
   "mimetype": "text/x-python",
   "name": "python",
   "nbconvert_exporter": "python",
   "pygments_lexer": "ipython3",
   "version": "3.13.1"
  }
 },
 "nbformat": 4,
 "nbformat_minor": 2
}
