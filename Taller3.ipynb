{
 "cells": [
  {
   "cell_type": "markdown",
   "metadata": {},
   "source": [
    "# Taller sobre LDA y kNN\n",
    "\n",
    "## Introducción\n",
    "En este taller, exploraremos dos de los algoritmos más utilizados en Machine Learning: K-Nearest Neighbors (KNN) y K-Means. Estos métodos, aunque diferentes en su propósito, comparten el uso de métricas de distancia para clasificar o agrupar datos.\n",
    "\n",
    "KNN (K-Nearest Neighbors) es un algoritmo de clasificación basado en la similitud entre los datos. Su desempeño depende del número de vecinos (k) y del tipo de distancia utilizada.\n",
    "K-Means es un algoritmo de agrupamiento no supervisado que busca particionar un conjunto de datos en k grupos, minimizando la variación dentro de cada grupo.\n",
    "\n"
   ]
  }
 ],
 "metadata": {
  "language_info": {
   "name": "python"
  }
 },
 "nbformat": 4,
 "nbformat_minor": 2
}
